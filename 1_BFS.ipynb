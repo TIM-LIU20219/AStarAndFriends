{
 "cells": [
  {
   "cell_type": "markdown",
   "metadata": {},
   "source": [
    "Author: Tim Liu  \n",
    "_To comment better, this series will be in jupyter notebook format._  \n",
    "_Animated result can be seen after running the .py file_  \n",
    "_The code is in python, while C++ implementation will also be mentioned._  \n"
   ]
  },
  {
   "cell_type": "markdown",
   "metadata": {},
   "source": [
    "BFS is a very basic search-based path finding algorithm\n",
    "It **uniformly** explores nodes in all directions. And the idea of keeping track of the **_frontier_** and the **_parent node (history)_** is widely applied. "
   ]
  },
  {
   "cell_type": "code",
   "execution_count": null,
   "metadata": {},
   "outputs": [],
   "source": [
    "import queue\n",
    "from utils import env, plotting\n",
    "import time"
   ]
  },
  {
   "cell_type": "markdown",
   "metadata": {},
   "source": [
    "Specifically, the frontier should be a **FIFO** (first in first out) model. Thus, use a queue.Queue() to represent it in python. In C++, std::queue can achieve the same effect.  \n",
    "We name a variable \"parent\" to track the previous node of the current exploring node. This is done with a **dictionary** in python, as it keeps the dual pair conveniently. In C++, **Hash structures** are feasible to keep the pair, like std::unordered_map.  "
   ]
  },
  {
   "cell_type": "code",
   "execution_count": null,
   "metadata": {},
   "outputs": [],
   "source": [
    "class BFS():\n",
    "    def __init__(self) -> None:\n",
    "        '''\n",
    "        BFS maintains a frontier\n",
    "        after exploring the head`s neighbour, the head node goes to another collection\n",
    "        thus, frontier is a queue\n",
    "\n",
    "        To generate the path, we need to record the node`s parent (where it comes from)\n",
    "        in python, use a dict to track\n",
    "        '''\n",
    "        self.frontier = queue.Queue()\n",
    "        self.parent = dict()\n",
    "\n",
    "        self.env = env.Env()\n",
    "        self.start = (3, 3)\n",
    "        self.goal = (self.env.x_size - 2, self.env.y_size - 2)\n",
    "\n",
    "        self.path = []"
   ]
  },
  {
   "cell_type": "markdown",
   "metadata": {},
   "source": [
    "In /utils/env.py, we set up the enviorment of a grid space, with fixed size and obstacle positions.  "
   ]
  },
  {
   "cell_type": "code",
   "execution_count": null,
   "metadata": {},
   "outputs": [],
   "source": [
    "class BFS(BFS):\n",
    "    def get_neighbor(self, s):\n",
    "        \"\"\"\n",
    "        find reachable neighbors of state s that not in obstacles.\n",
    "        :param s: state\n",
    "        :return: neighbors\n",
    "        \"\"\"\n",
    "        # return [(s[0] + u[0], s[1] + u[1]) for u in self.env.motions]\n",
    "        l = list()\n",
    "        for move in self.env.motions:\n",
    "            if (s[0] + move[0], s[1] + move[1]) not in self.env.obs:\n",
    "                l.append((s[0] + move[0], s[1] + move[1]))\n",
    "        return l"
   ]
  },
  {
   "cell_type": "markdown",
   "metadata": {},
   "source": [
    "Oh boy, here comes the majority of the algorithm.  \n",
    "Essentially, the BFS take the head of the frontier (a queue), and try out its neighbours without any bias.  \n",
    "\n",
    "If the neighbouring node has not been reached, it is added to the queue as it is to be **explored in the next iteration**. Meanwhile, the parent dictionary should add the pair, now that this neighbouring node **comes from** the current queue`s head.  \n",
    "\n",
    "And how do we determine whether a node has been explored? We simply check whether this node exists in the parent dictionary **(as the key, not the value)**"
   ]
  },
  {
   "cell_type": "code",
   "execution_count": null,
   "metadata": {},
   "outputs": [],
   "source": [
    "class BFS(BFS):\n",
    "    def search(self):\n",
    "        # init with pushing the starting node\n",
    "        found = False\n",
    "        self.frontier.put(self.start)\n",
    "        self.parent[self.start] = None # the starting point`s parent can be None\n",
    "        while not self.frontier.empty():\n",
    "            # fetch the queue`s head\n",
    "            cur_node = self.frontier.get()\n",
    "            if cur_node == self.goal:\n",
    "                # self.parent[self.goal] = \n",
    "                # self.get_path()\n",
    "                found = True\n",
    "                break\n",
    "            for new_node in self.get_neighbor(cur_node): # get adjacent none-obstacle grid\n",
    "                if new_node not in self.parent: # this node has not been explored\n",
    "                    # update frontier and parent\n",
    "                    self.frontier.put(new_node)\n",
    "                    self.parent[new_node] = cur_node\n",
    "        if found:\n",
    "            self.get_path()\n",
    "            return self.path, self.parent\n",
    "        else:\n",
    "            return None, None"
   ]
  },
  {
   "cell_type": "markdown",
   "metadata": {},
   "source": [
    "Now that the frontier has reached the goal, we can reconstruct the path bia traversing the parent collection.  \n",
    "We do this based on the parent dictionary.  "
   ]
  },
  {
   "cell_type": "code",
   "execution_count": null,
   "metadata": {},
   "outputs": [],
   "source": [
    "class BFS(BFS):\n",
    "    def get_path(self):        \n",
    "        cur = self.goal\n",
    "        while cur != self.start:\n",
    "            self.path.append(cur)\n",
    "            cur = self.parent[cur] # iterate until reaching the start\n",
    "        self.path.reverse() #! note that the constructed path is from goal to start, in reverse order\n",
    "        print(\"path found!\")"
   ]
  },
  {
   "cell_type": "code",
   "execution_count": 26,
   "metadata": {},
   "outputs": [
    {
     "name": "stdout",
     "output_type": "stream",
     "text": [
      "path found!\n",
      "0.017005205154418945\n"
     ]
    }
   ],
   "source": [
    "def main():\n",
    "    planner = BFS()\n",
    "    t_start = time.time()\n",
    "    path, visited = planner.search();\n",
    "    t_end = time.time();\n",
    "    print(t_end - t_start)\n",
    "\n",
    "if __name__==\"__main__\":\n",
    "    main()"
   ]
  }
 ],
 "metadata": {
  "interpreter": {
   "hash": "d3ce704a4d5319356cd8851ed7ec98d89e1944eb66f14872aa76605d12aada40"
  },
  "kernelspec": {
   "display_name": "Python 3.9.12 ('PythonRobotics')",
   "language": "python",
   "name": "python3"
  },
  "language_info": {
   "codemirror_mode": {
    "name": "ipython",
    "version": 3
   },
   "file_extension": ".py",
   "mimetype": "text/x-python",
   "name": "python",
   "nbconvert_exporter": "python",
   "pygments_lexer": "ipython3",
   "version": "3.9.12"
  },
  "orig_nbformat": 4
 },
 "nbformat": 4,
 "nbformat_minor": 2
}
