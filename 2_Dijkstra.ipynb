{
 "cells": [
  {
   "cell_type": "markdown",
   "metadata": {},
   "source": [
    "author: Tim Liu\n",
    "\n",
    "Dijkstra`s algorithm can be seen as derivation of the breadth-first search\n",
    "It introduces the idea of **cost**.  \n",
    "We mentioned that BFS search **uniformly**, Dijkstra includes the factor of **distance to the start**"
   ]
  },
  {
   "cell_type": "code",
   "execution_count": null,
   "metadata": {},
   "outputs": [],
   "source": [
    "from queue import PriorityQueue\n",
    "import time\n",
    "from math import inf, sqrt, abs\n",
    "from utils import env, plotting\n",
    "\n",
    "class Djikstra():\n",
    "    def __init__(self) -> None:\n",
    "        self.frontier = PriorityQueue()\n",
    "        self.parent = dict()\n",
    "        self.g = dict() # a critical change compared with BFS\n",
    "        self.env = env.Env()\n",
    "        self.path = []\n",
    "\n",
    "        self.start = (1,1)\n",
    "        self.goal = (self.env.x_size - 2, self.env.y_size - 2)\n",
    "\n",
    "        self.frontier.put((0, self.start))\n",
    "        self.g[self.start] = 0\n",
    "        self.parent[self.start] = None"
   ]
  },
  {
   "cell_type": "markdown",
   "metadata": {},
   "source": [
    "The class initialization is almost the same **except for** we introduce a dictionary named g, and frontier becomes a **priority queue**.  \n",
    "In python, the priority queue prioritize the small value in the queue. The underlying machanism is heap. In C++, there is std::priority_queue  \n",
    "- An implementation detail: we must put the g value before the node`s pair, so the priority queue can sort with the g value."
   ]
  },
  {
   "cell_type": "code",
   "execution_count": null,
   "metadata": {},
   "outputs": [],
   "source": [
    "class Djikstra(Djikstra):\n",
    "    def cal_dist(self, nA, nB):\n",
    "        if nA in self.env.obs or nB in self.env.obs:\n",
    "            return inf\n",
    "        if len(self.env.motions) == 8:\n",
    "            return sqrt((nA[0] - nB[0]) ** 2 + (nA[1] - nB[1]) ** 2)\n",
    "        else:\n",
    "            return abs(nA[0] - nB[0]) + abs(nA[1] - nB[1])"
   ]
  },
  {
   "cell_type": "markdown",
   "metadata": {},
   "source": [
    "So, how to calculate distance? In Dijkstra, this depends on available directions. Euclidian distance for 8 or Manhattan distance for 4."
   ]
  },
  {
   "cell_type": "code",
   "execution_count": null,
   "metadata": {},
   "outputs": [],
   "source": [
    "class Djikstra(Djikstra):\n",
    "    def search(self):\n",
    "        found = False\n",
    "        while not self.frontier.empty():\n",
    "            cur_node = self.frontier.get()[1]\n",
    "            if cur_node == self.goal:\n",
    "                found = True\n",
    "                break\n",
    "            for new_node in self.get_neighbor(cur_node):\n",
    "\n",
    "                new_cost = self.g[cur_node] + self.cal_dist(cur_node, new_node)\n",
    "\n",
    "                if new_node not in self.g or new_cost < self.g[new_node]:\n",
    "                    self.g[new_node] = new_cost\n",
    "                    self.parent[new_node] = cur_node                \n",
    "                    self.frontier.put((self.g[new_node], new_node))\n",
    "        if found:\n",
    "            self.get_path()\n",
    "            return self.path, self.parent\n",
    "        else:\n",
    "            return None, None"
   ]
  },
  {
   "cell_type": "markdown",
   "metadata": {},
   "source": [
    "This is the searching process. The thoughts of **traversing the queue`s head** and function structure are the same with BFS.  \n",
    "However, for neighbouring each node, we **always** calculate its cost (distance to the start). This inevitably causes some repeated calculation, going over the same node for multiple times.  \n",
    "We want to prioritize the nearest node (the essence of Dijkstra), so always **update** the distance when the new cost is smaller. smaller new cost may be caused by obstacles.  \n",
    "But, when to update the __*parent*__ and __*frontier*__? This was once confusing for me. \n",
    "- For *parent*, if and only if the *new_cost* from *new_node* is smaller, we then update. Or else this node can just remain its ancestor.  \n",
    "- For *frontier*, if and only if the *new_cost* from *new_node* is smaller, we **retake** it into *frontier*, to make it be considered in the next turn. Or else the node has been traversed, thus no need to calculate again.\n"
   ]
  },
  {
   "cell_type": "code",
   "execution_count": null,
   "metadata": {},
   "outputs": [],
   "source": [
    "class Djikstra(Djikstra):\n",
    "    def get_neighbor(self, s):\n",
    "        l = list()\n",
    "        for move in self.env.motions:\n",
    "            if (s[0] + move[0], s[1] + move[1]) not in self.env.obs:\n",
    "                l.append((s[0] + move[0], s[1] + move[1]))\n",
    "        return l\n",
    "class Djikstra(Djikstra):\n",
    "    def get_path(self):\n",
    "        cur = self.goal\n",
    "        while cur != self.start:\n",
    "            self.path.append(cur)\n",
    "            cur = self.parent[cur] # iterate until reaching the start\n",
    "        self.path.reverse() # note that the constructed path is from goal to start, in reverse order\n",
    "        print(\"path found!\")\n",
    "def main():\n",
    "    planner = Djikstra()\n",
    "    t_start = time.time()\n",
    "    path, visited = planner.search();\n",
    "    t_end = time.time();\n",
    "    print(t_end - t_start)\n",
    "\n",
    "if __name__==\"__main__\":\n",
    "    main()"
   ]
  },
  {
   "cell_type": "markdown",
   "metadata": {},
   "source": [
    "Congrats! The rest is the same with the BFS. And we (at least me XD) can call it a day!"
   ]
  }
 ],
 "metadata": {
  "interpreter": {
   "hash": "d3ce704a4d5319356cd8851ed7ec98d89e1944eb66f14872aa76605d12aada40"
  },
  "kernelspec": {
   "display_name": "Python 3.9.12 ('PythonRobotics')",
   "language": "python",
   "name": "python3"
  },
  "language_info": {
   "codemirror_mode": {
    "name": "ipython",
    "version": 3
   },
   "file_extension": ".py",
   "mimetype": "text/x-python",
   "name": "python",
   "nbconvert_exporter": "python",
   "pygments_lexer": "ipython3",
   "version": "3.9.12"
  },
  "orig_nbformat": 4
 },
 "nbformat": 4,
 "nbformat_minor": 2
}
